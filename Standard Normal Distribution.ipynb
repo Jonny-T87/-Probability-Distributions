{
 "cells": [
  {
   "cell_type": "code",
   "execution_count": 1,
   "id": "4901e774",
   "metadata": {},
   "outputs": [],
   "source": [
    "import pandas as pd\n",
    "import numpy as np\n",
    "import matplotlib.pyplot as plt\n",
    "import seaborn as sns\n",
    "from sklearn.preprocessing import StandardScaler\n",
    "from scipy import stats"
   ]
  },
  {
   "cell_type": "code",
   "execution_count": 2,
   "id": "24ad8896",
   "metadata": {},
   "outputs": [
    {
     "data": {
      "text/html": [
       "<div>\n",
       "<style scoped>\n",
       "    .dataframe tbody tr th:only-of-type {\n",
       "        vertical-align: middle;\n",
       "    }\n",
       "\n",
       "    .dataframe tbody tr th {\n",
       "        vertical-align: top;\n",
       "    }\n",
       "\n",
       "    .dataframe thead th {\n",
       "        text-align: right;\n",
       "    }\n",
       "</style>\n",
       "<table border=\"1\" class=\"dataframe\">\n",
       "  <thead>\n",
       "    <tr style=\"text-align: right;\">\n",
       "      <th></th>\n",
       "      <th>Gender</th>\n",
       "      <th>Height</th>\n",
       "      <th>Weight</th>\n",
       "    </tr>\n",
       "  </thead>\n",
       "  <tbody>\n",
       "    <tr>\n",
       "      <th>0</th>\n",
       "      <td>Male</td>\n",
       "      <td>73.847017</td>\n",
       "      <td>241.893563</td>\n",
       "    </tr>\n",
       "    <tr>\n",
       "      <th>1</th>\n",
       "      <td>Male</td>\n",
       "      <td>68.781904</td>\n",
       "      <td>162.310473</td>\n",
       "    </tr>\n",
       "    <tr>\n",
       "      <th>2</th>\n",
       "      <td>Male</td>\n",
       "      <td>74.110105</td>\n",
       "      <td>212.740856</td>\n",
       "    </tr>\n",
       "    <tr>\n",
       "      <th>3</th>\n",
       "      <td>Male</td>\n",
       "      <td>71.730978</td>\n",
       "      <td>220.042470</td>\n",
       "    </tr>\n",
       "    <tr>\n",
       "      <th>4</th>\n",
       "      <td>Male</td>\n",
       "      <td>69.881796</td>\n",
       "      <td>206.349801</td>\n",
       "    </tr>\n",
       "  </tbody>\n",
       "</table>\n",
       "</div>"
      ],
      "text/plain": [
       "  Gender     Height      Weight\n",
       "0   Male  73.847017  241.893563\n",
       "1   Male  68.781904  162.310473\n",
       "2   Male  74.110105  212.740856\n",
       "3   Male  71.730978  220.042470\n",
       "4   Male  69.881796  206.349801"
      ]
     },
     "execution_count": 2,
     "metadata": {},
     "output_type": "execute_result"
    }
   ],
   "source": [
    "df = pd.read_csv('https://docs.google.com/spreadsheets/d/e/2PACX-1vRxp-hsw61ck9cpt5ExZIUhvSGT5zYzoUJl_7xr7YF5qZeazC8393q2taqwkDvMxVirgFDJm1WX3uAC/pub?output=csv')\n",
    "df.head()"
   ]
  },
  {
   "cell_type": "code",
   "execution_count": 3,
   "id": "e777ab05",
   "metadata": {},
   "outputs": [],
   "source": [
    "males = df.loc[df['Gender']=='Male'].copy()\n",
    "females = df.loc[df['Gender']=='Female'].copy()"
   ]
  },
  {
   "cell_type": "code",
   "execution_count": 4,
   "id": "b7262e4d",
   "metadata": {},
   "outputs": [
    {
     "data": {
      "text/plain": [
       "5000    58.910732\n",
       "5001    65.230013\n",
       "5002    63.369004\n",
       "5003    64.479997\n",
       "5004    61.793096\n",
       "Name: Height, dtype: float64"
      ]
     },
     "execution_count": 4,
     "metadata": {},
     "output_type": "execute_result"
    }
   ],
   "source": [
    "#the first 5000 entries in the entire dataset were the males.\n",
    "females['Height'].head()"
   ]
  },
  {
   "cell_type": "code",
   "execution_count": 7,
   "id": "a5cca914",
   "metadata": {},
   "outputs": [
    {
     "data": {
      "image/png": "[encoded data removed]",
      "text/plain": [
       "<Figure size 432x288 with 1 Axes>"
      ]
     },
     "metadata": {
      "needs_background": "light"
     },
     "output_type": "display_data"
    }
   ],
   "source": [
    "## Plot a histogram of probabilities for female height\n",
    "ax = sns.histplot(x=females['Height'], stat='probability', kde=True)\n",
    "ax.axvline(females['Height'].mean(), color='k')\n",
    "ax.set_title(\"Female Height (Inches)\");"
   ]
  },
  {
   "cell_type": "code",
   "execution_count": 8,
   "id": "4244d18a",
   "metadata": {},
   "outputs": [
    {
     "data": {
      "text/plain": [
       "5000   -1.779502\n",
       "5001    0.564198\n",
       "5002   -0.126014\n",
       "Name: Height, dtype: float64"
      ]
     },
     "execution_count": 8,
     "metadata": {},
     "output_type": "execute_result"
    }
   ],
   "source": [
    "## manually calc z-score conversion\n",
    "mean = females[\"Height\"].mean()\n",
    "std = females[\"Height\"].std()\n",
    "z_scores_manual = (females['Height'] -  mean)/std\n",
    "z_scores_manual.head(3)"
   ]
  },
  {
   "cell_type": "code",
   "execution_count": 9,
   "id": "98fb25be",
   "metadata": {},
   "outputs": [
    {
     "data": {
      "text/plain": [
       "5000   -1.779680\n",
       "5001    0.564255\n",
       "5002   -0.126027\n",
       "Name: Height, dtype: float64"
      ]
     },
     "execution_count": 9,
     "metadata": {},
     "output_type": "execute_result"
    }
   ],
   "source": [
    "## Calculating z-scores with scipy.stats.zscore\n",
    "z_scores_scipy = stats.zscore(females['Height'])\n",
    "z_scores_scipy[0:3]"
   ]
  },
  {
   "cell_type": "code",
   "execution_count": 10,
   "id": "aeb70ef3",
   "metadata": {},
   "outputs": [
    {
     "data": {
      "text/plain": [
       "array([[-1.77967952],\n",
       "       [ 0.56425475],\n",
       "       [-0.12602672]])"
      ]
     },
     "execution_count": 10,
     "metadata": {},
     "output_type": "execute_result"
    }
   ],
   "source": [
    "#OR Use scikit-learn's StandardScaler\n",
    "scaler = StandardScaler()\n",
    "z_scores_scaler = scaler.fit_transform(females[['Height']])\n",
    "z_scores_scaler[:3]"
   ]
  },
  {
   "cell_type": "code",
   "execution_count": 13,
   "id": "8fd624f1",
   "metadata": {},
   "outputs": [
    {
     "data": {
      "image/png": "[encoded data removed]",
      "text/plain": [
       "<Figure size 432x288 with 1 Axes>"
      ]
     },
     "metadata": {
      "needs_background": "light"
     },
     "output_type": "display_data"
    }
   ],
   "source": [
    "## Plot a histogram with z-scores\n",
    "ax = sns.histplot(x=z_scores_manual, stat='probability', kde=True)\n",
    "ax.set_xlabel(\"Z-Scores\")\n",
    "ax.set_title(\"Female Height z-Scores\");"
   ]
  },
  {
   "cell_type": "code",
   "execution_count": null,
   "id": "ad61e181",
   "metadata": {},
   "outputs": [],
   "source": []
  }
 ],
 "metadata": {
  "kernelspec": {
   "display_name": "Python (dojo-env)",
   "language": "python",
   "name": "dojo-env"
  },
  "language_info": {
   "codemirror_mode": {
    "name": "ipython",
    "version": 3
   },
   "file_extension": ".py",
   "mimetype": "text/x-python",
   "name": "python",
   "nbconvert_exporter": "python",
   "pygments_lexer": "ipython3",
   "version": "3.8.13"
  },
  "toc": {
   "base_numbering": 1,
   "nav_menu": {},
   "number_sections": true,
   "sideBar": true,
   "skip_h1_title": false,
   "title_cell": "Table of Contents",
   "title_sidebar": "Contents",
   "toc_cell": false,
   "toc_position": {},
   "toc_section_display": true,
   "toc_window_display": false
  }
 },
 "nbformat": 4,
 "nbformat_minor": 5
}
