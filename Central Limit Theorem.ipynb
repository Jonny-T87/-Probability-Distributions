{
 "cells": [
  {
   "cell_type": "code",
   "execution_count": 1,
   "id": "1ddd53cd",
   "metadata": {},
   "outputs": [],
   "source": [
    "import pandas as pd\n",
    "import numpy as np\n",
    "import matplotlib.pyplot as plt\n",
    "import seaborn as sns\n",
    "import scipy.stats as stats"
   ]
  },
  {
   "cell_type": "code",
   "execution_count": 2,
   "id": "7e832983",
   "metadata": {},
   "outputs": [],
   "source": [
    "## Load the data\n",
    "movie_url = \"https://docs.google.com/spreadsheets/d/e/2PACX-1vSRzwOVZswzLMacwVwQJLB4WnDZIy46gxMxZzGtJs0FKCLhwXDb8kUI1wmo9-Nll0oo1EpgjFbBoUEV/pub?output=csv\"\n",
    "df = pd.read_csv(movie_url,index_col=0,parse_dates=['release_date'])"
   ]
  },
  {
   "cell_type": "code",
   "execution_count": 3,
   "id": "c1f051d4",
   "metadata": {},
   "outputs": [
    {
     "data": {
      "text/html": [
       "<div>\n",
       "<style scoped>\n",
       "    .dataframe tbody tr th:only-of-type {\n",
       "        vertical-align: middle;\n",
       "    }\n",
       "\n",
       "    .dataframe tbody tr th {\n",
       "        vertical-align: top;\n",
       "    }\n",
       "\n",
       "    .dataframe thead th {\n",
       "        text-align: right;\n",
       "    }\n",
       "</style>\n",
       "<table border=\"1\" class=\"dataframe\">\n",
       "  <thead>\n",
       "    <tr style=\"text-align: right;\">\n",
       "      <th></th>\n",
       "      <th>belongs_to_collection</th>\n",
       "      <th>budget</th>\n",
       "      <th>genres</th>\n",
       "      <th>homepage</th>\n",
       "      <th>imdb_id</th>\n",
       "      <th>original_language</th>\n",
       "      <th>original_title</th>\n",
       "      <th>overview</th>\n",
       "      <th>popularity</th>\n",
       "      <th>poster_path</th>\n",
       "      <th>...</th>\n",
       "      <th>release_date</th>\n",
       "      <th>runtime</th>\n",
       "      <th>spoken_languages</th>\n",
       "      <th>status</th>\n",
       "      <th>tagline</th>\n",
       "      <th>title</th>\n",
       "      <th>Keywords</th>\n",
       "      <th>cast</th>\n",
       "      <th>crew</th>\n",
       "      <th>revenue</th>\n",
       "    </tr>\n",
       "    <tr>\n",
       "      <th>id</th>\n",
       "      <th></th>\n",
       "      <th></th>\n",
       "      <th></th>\n",
       "      <th></th>\n",
       "      <th></th>\n",
       "      <th></th>\n",
       "      <th></th>\n",
       "      <th></th>\n",
       "      <th></th>\n",
       "      <th></th>\n",
       "      <th></th>\n",
       "      <th></th>\n",
       "      <th></th>\n",
       "      <th></th>\n",
       "      <th></th>\n",
       "      <th></th>\n",
       "      <th></th>\n",
       "      <th></th>\n",
       "      <th></th>\n",
       "      <th></th>\n",
       "      <th></th>\n",
       "    </tr>\n",
       "  </thead>\n",
       "  <tbody>\n",
       "    <tr>\n",
       "      <th>1</th>\n",
       "      <td>[{'id': 313576, 'name': 'Hot Tub Time Machine ...</td>\n",
       "      <td>14000000</td>\n",
       "      <td>[{'id': 35, 'name': 'Comedy'}]</td>\n",
       "      <td>NaN</td>\n",
       "      <td>tt2637294</td>\n",
       "      <td>en</td>\n",
       "      <td>Hot Tub Time Machine 2</td>\n",
       "      <td>When Lou, who has become the \"father of the In...</td>\n",
       "      <td>6.575393</td>\n",
       "      <td>/tQtWuwvMf0hCc2QR2tkolwl7c3c.jpg</td>\n",
       "      <td>...</td>\n",
       "      <td>2015-02-20</td>\n",
       "      <td>93.0</td>\n",
       "      <td>[{'iso_639_1': 'en', 'name': 'English'}]</td>\n",
       "      <td>Released</td>\n",
       "      <td>The Laws of Space and Time are About to be Vio...</td>\n",
       "      <td>Hot Tub Time Machine 2</td>\n",
       "      <td>[{'id': 4379, 'name': 'time travel'}, {'id': 9...</td>\n",
       "      <td>[{'cast_id': 4, 'character': 'Lou', 'credit_id...</td>\n",
       "      <td>[{'credit_id': '59ac067c92514107af02c8c8', 'de...</td>\n",
       "      <td>12314651</td>\n",
       "    </tr>\n",
       "    <tr>\n",
       "      <th>2</th>\n",
       "      <td>[{'id': 107674, 'name': 'The Princess Diaries ...</td>\n",
       "      <td>40000000</td>\n",
       "      <td>[{'id': 35, 'name': 'Comedy'}, {'id': 18, 'nam...</td>\n",
       "      <td>NaN</td>\n",
       "      <td>tt0368933</td>\n",
       "      <td>en</td>\n",
       "      <td>The Princess Diaries 2: Royal Engagement</td>\n",
       "      <td>Mia Thermopolis is now a college graduate and ...</td>\n",
       "      <td>8.248895</td>\n",
       "      <td>/w9Z7A0GHEhIp7etpj0vyKOeU1Wx.jpg</td>\n",
       "      <td>...</td>\n",
       "      <td>2004-08-06</td>\n",
       "      <td>113.0</td>\n",
       "      <td>[{'iso_639_1': 'en', 'name': 'English'}]</td>\n",
       "      <td>Released</td>\n",
       "      <td>It can take a lifetime to find true love; she'...</td>\n",
       "      <td>The Princess Diaries 2: Royal Engagement</td>\n",
       "      <td>[{'id': 2505, 'name': 'coronation'}, {'id': 42...</td>\n",
       "      <td>[{'cast_id': 1, 'character': 'Mia Thermopolis'...</td>\n",
       "      <td>[{'credit_id': '52fe43fe9251416c7502563d', 'de...</td>\n",
       "      <td>95149435</td>\n",
       "    </tr>\n",
       "    <tr>\n",
       "      <th>3</th>\n",
       "      <td>NaN</td>\n",
       "      <td>3300000</td>\n",
       "      <td>[{'id': 18, 'name': 'Drama'}]</td>\n",
       "      <td>http://sonyclassics.com/whiplash/</td>\n",
       "      <td>tt2582802</td>\n",
       "      <td>en</td>\n",
       "      <td>Whiplash</td>\n",
       "      <td>Under the direction of a ruthless instructor, ...</td>\n",
       "      <td>64.299990</td>\n",
       "      <td>/lIv1QinFqz4dlp5U4lQ6HaiskOZ.jpg</td>\n",
       "      <td>...</td>\n",
       "      <td>2014-10-10</td>\n",
       "      <td>105.0</td>\n",
       "      <td>[{'iso_639_1': 'en', 'name': 'English'}]</td>\n",
       "      <td>Released</td>\n",
       "      <td>The road to greatness can take you to the edge.</td>\n",
       "      <td>Whiplash</td>\n",
       "      <td>[{'id': 1416, 'name': 'jazz'}, {'id': 1523, 'n...</td>\n",
       "      <td>[{'cast_id': 5, 'character': 'Andrew Neimann',...</td>\n",
       "      <td>[{'credit_id': '54d5356ec3a3683ba0000039', 'de...</td>\n",
       "      <td>13092000</td>\n",
       "    </tr>\n",
       "  </tbody>\n",
       "</table>\n",
       "<p>3 rows × 22 columns</p>\n",
       "</div>"
      ],
      "text/plain": [
       "                                belongs_to_collection    budget  \\\n",
       "id                                                                \n",
       "1   [{'id': 313576, 'name': 'Hot Tub Time Machine ...  14000000   \n",
       "2   [{'id': 107674, 'name': 'The Princess Diaries ...  40000000   \n",
       "3                                                 NaN   3300000   \n",
       "\n",
       "                                               genres  \\\n",
       "id                                                      \n",
       "1                      [{'id': 35, 'name': 'Comedy'}]   \n",
       "2   [{'id': 35, 'name': 'Comedy'}, {'id': 18, 'nam...   \n",
       "3                       [{'id': 18, 'name': 'Drama'}]   \n",
       "\n",
       "                             homepage    imdb_id original_language  \\\n",
       "id                                                                   \n",
       "1                                 NaN  tt2637294                en   \n",
       "2                                 NaN  tt0368933                en   \n",
       "3   http://sonyclassics.com/whiplash/  tt2582802                en   \n",
       "\n",
       "                              original_title  \\\n",
       "id                                             \n",
       "1                     Hot Tub Time Machine 2   \n",
       "2   The Princess Diaries 2: Royal Engagement   \n",
       "3                                   Whiplash   \n",
       "\n",
       "                                             overview  popularity  \\\n",
       "id                                                                  \n",
       "1   When Lou, who has become the \"father of the In...    6.575393   \n",
       "2   Mia Thermopolis is now a college graduate and ...    8.248895   \n",
       "3   Under the direction of a ruthless instructor, ...   64.299990   \n",
       "\n",
       "                         poster_path  ... release_date runtime  \\\n",
       "id                                    ...                        \n",
       "1   /tQtWuwvMf0hCc2QR2tkolwl7c3c.jpg  ...   2015-02-20    93.0   \n",
       "2   /w9Z7A0GHEhIp7etpj0vyKOeU1Wx.jpg  ...   2004-08-06   113.0   \n",
       "3   /lIv1QinFqz4dlp5U4lQ6HaiskOZ.jpg  ...   2014-10-10   105.0   \n",
       "\n",
       "                            spoken_languages    status  \\\n",
       "id                                                       \n",
       "1   [{'iso_639_1': 'en', 'name': 'English'}]  Released   \n",
       "2   [{'iso_639_1': 'en', 'name': 'English'}]  Released   \n",
       "3   [{'iso_639_1': 'en', 'name': 'English'}]  Released   \n",
       "\n",
       "                                              tagline  \\\n",
       "id                                                      \n",
       "1   The Laws of Space and Time are About to be Vio...   \n",
       "2   It can take a lifetime to find true love; she'...   \n",
       "3     The road to greatness can take you to the edge.   \n",
       "\n",
       "                                       title  \\\n",
       "id                                             \n",
       "1                     Hot Tub Time Machine 2   \n",
       "2   The Princess Diaries 2: Royal Engagement   \n",
       "3                                   Whiplash   \n",
       "\n",
       "                                             Keywords  \\\n",
       "id                                                      \n",
       "1   [{'id': 4379, 'name': 'time travel'}, {'id': 9...   \n",
       "2   [{'id': 2505, 'name': 'coronation'}, {'id': 42...   \n",
       "3   [{'id': 1416, 'name': 'jazz'}, {'id': 1523, 'n...   \n",
       "\n",
       "                                                 cast  \\\n",
       "id                                                      \n",
       "1   [{'cast_id': 4, 'character': 'Lou', 'credit_id...   \n",
       "2   [{'cast_id': 1, 'character': 'Mia Thermopolis'...   \n",
       "3   [{'cast_id': 5, 'character': 'Andrew Neimann',...   \n",
       "\n",
       "                                                 crew   revenue  \n",
       "id                                                               \n",
       "1   [{'credit_id': '59ac067c92514107af02c8c8', 'de...  12314651  \n",
       "2   [{'credit_id': '52fe43fe9251416c7502563d', 'de...  95149435  \n",
       "3   [{'credit_id': '54d5356ec3a3683ba0000039', 'de...  13092000  \n",
       "\n",
       "[3 rows x 22 columns]"
      ]
     },
     "execution_count": 3,
     "metadata": {},
     "output_type": "execute_result"
    }
   ],
   "source": [
    "## Filter out movie population of interest and remove nulls\n",
    "## keeping only movies released after 2000 and before 2020\n",
    "df = df[(df['release_date'] > \"2000\") & (df['release_date'] <\"2020\")]\n",
    "df = df.dropna(subset=['runtime'])\n",
    "df.head(3)"
   ]
  },
  {
   "cell_type": "code",
   "execution_count": 11,
   "id": "95925e33",
   "metadata": {},
   "outputs": [],
   "source": [
    "## Slice out data and calc stats\n",
    "data = df['runtime'].copy()\n",
    "mean = np.mean(data)\n",
    "med = np.median(data)"
   ]
  },
  {
   "cell_type": "code",
   "execution_count": 4,
   "id": "66c1bff3",
   "metadata": {},
   "outputs": [],
   "source": [
    "#Create the simulated population\n",
    "#choose values between 1-1000, choose 5000 values\n",
    "np.random.seed(42)\n",
    "uniform = np.random.uniform(1, 1000, 5000)"
   ]
  },
  {
   "cell_type": "code",
   "execution_count": 5,
   "id": "962de417",
   "metadata": {},
   "outputs": [
    {
     "data": {
      "text/plain": [
       "array([375.16557873, 950.7635921 , 732.26194787, ..., 328.51499505,\n",
       "       815.92963525, 597.71506595])"
      ]
     },
     "execution_count": 5,
     "metadata": {},
     "output_type": "execute_result"
    }
   ],
   "source": [
    "uniform"
   ]
  },
  {
   "cell_type": "code",
   "execution_count": 6,
   "id": "378bc42e",
   "metadata": {},
   "outputs": [
    {
     "data": {
      "image/png": "[encoded data removed]",
      "text/plain": [
       "<Figure size 432x288 with 1 Axes>"
      ]
     },
     "metadata": {
      "needs_background": "light"
     },
     "output_type": "display_data"
    }
   ],
   "source": [
    "#Visualize the population\n",
    "## Let's graph the density plot\n",
    "sns.histplot(x=uniform,stat='density', kde=True);"
   ]
  },
  {
   "cell_type": "code",
   "execution_count": 7,
   "id": "a13fe2f3",
   "metadata": {},
   "outputs": [
    {
     "data": {
      "text/plain": [
       "[369.4808932208104,\n",
       " 555.6072958462468,\n",
       " 507.2136853427085,\n",
       " 449.9927701766231,\n",
       " 530.2748285204503]"
      ]
     },
     "execution_count": 7,
     "metadata": {},
     "output_type": "execute_result"
    }
   ],
   "source": [
    "#Create the list of sample means\n",
    "## loop to take 1000 samples of 30 and calculate the means of each sample\n",
    "np.random.seed(42)\n",
    "sample_means = []\n",
    "for i in range(1000):    \n",
    "  sample = np.random.choice(uniform,size=30,replace=False)    \n",
    "  sample_means.append( np.mean(sample))\n",
    "# Print the first 5 sample means\n",
    "sample_means[0:5]"
   ]
  },
  {
   "cell_type": "code",
   "execution_count": 8,
   "id": "4d3cf782",
   "metadata": {},
   "outputs": [
    {
     "data": {
      "image/png": "[encoded data removed]",
      "text/plain": [
       "<Figure size 432x288 with 1 Axes>"
      ]
     },
     "metadata": {
      "needs_background": "light"
     },
     "output_type": "display_data"
    }
   ],
   "source": [
    "#Plot the sample means\n",
    "# visualize the sample means\n",
    "sns.histplot(sample_means,kde=True,stat='density');"
   ]
  },
  {
   "cell_type": "markdown",
   "id": "79241f29",
   "metadata": {},
   "source": [
    "Wow! When we plot the distribution of sample means, it appears that we may have a normal distribution! Let's confirm with the test for normality."
   ]
  },
  {
   "cell_type": "code",
   "execution_count": 9,
   "id": "c477b28a",
   "metadata": {},
   "outputs": [
    {
     "data": {
      "text/plain": [
       "NormaltestResult(statistic=0.14786790715227197, pvalue=0.9287330313111472)"
      ]
     },
     "execution_count": 9,
     "metadata": {},
     "output_type": "execute_result"
    }
   ],
   "source": [
    "#Test for Normality\n",
    "stats.normaltest(sample_means)"
   ]
  },
  {
   "cell_type": "markdown",
   "id": "fee5fbf2",
   "metadata": {},
   "source": [
    "- Our p-value is greater than 0.05 so we accept the null hypothesis that yes, indeed, our distribution of sample means is normal! "
   ]
  },
  {
   "cell_type": "code",
   "execution_count": 12,
   "id": "a7efbfe8",
   "metadata": {},
   "outputs": [
    {
     "data": {
      "image/png": "[encoded data removed]",
      "text/plain": [
       "<Figure size 432x288 with 1 Axes>"
      ]
     },
     "metadata": {
      "needs_background": "light"
     },
     "output_type": "display_data"
    }
   ],
   "source": [
    "#Visualize the population of Df\n",
    "sns.histplot(x=data, kde=True, stat='density');"
   ]
  },
  {
   "cell_type": "code",
   "execution_count": 13,
   "id": "28c58cd8",
   "metadata": {},
   "outputs": [
    {
     "data": {
      "text/plain": [
       "NormaltestResult(statistic=498.6206359702571, pvalue=5.319914071356255e-109)"
      ]
     },
     "execution_count": 13,
     "metadata": {},
     "output_type": "execute_result"
    }
   ],
   "source": [
    "#Test for normality\n",
    "#We have previously tested this distribution for normality, but let's reconfirm here:\n",
    "stats.normaltest(data)"
   ]
  },
  {
   "cell_type": "markdown",
   "id": "67e3b116",
   "metadata": {},
   "source": [
    "The p-value is less than 0.05 which means we reject the null hypothesis, and our data is NOT normal."
   ]
  },
  {
   "cell_type": "code",
   "execution_count": 14,
   "id": "2c0ee0c4",
   "metadata": {},
   "outputs": [
    {
     "data": {
      "text/plain": [
       "[109.33333333333333, 107.8, 109.43333333333334, 106.46666666666667, 110.9]"
      ]
     },
     "execution_count": 14,
     "metadata": {},
     "output_type": "execute_result"
    }
   ],
   "source": [
    "#Create the list of sample means\n",
    "## loop to take 1000 samples of 30 and calculate the mean of each sample\n",
    "np.random.seed(42)\n",
    "sample_means = []\n",
    "for i in range(1000):   \n",
    "  sample = np.random.choice(data,size=30,replace=False)    \n",
    "  sample_means.append( np.mean(sample))\n",
    "sample_means[0:5]"
   ]
  },
  {
   "cell_type": "code",
   "execution_count": 15,
   "id": "11298cd7",
   "metadata": {},
   "outputs": [
    {
     "data": {
      "image/png": "[encoded data removed]",
      "text/plain": [
       "<Figure size 432x288 with 1 Axes>"
      ]
     },
     "metadata": {
      "needs_background": "light"
     },
     "output_type": "display_data"
    }
   ],
   "source": [
    "#Plot the sample means\n",
    "sns.histplot(sample_means,kde=True,stat='density');"
   ]
  },
  {
   "cell_type": "code",
   "execution_count": 16,
   "id": "d00f7e10",
   "metadata": {},
   "outputs": [
    {
     "data": {
      "text/plain": [
       "NormaltestResult(statistic=4.216509433391504, pvalue=0.12144974578576584)"
      ]
     },
     "execution_count": 16,
     "metadata": {},
     "output_type": "execute_result"
    }
   ],
   "source": [
    "#Test for Normality\n",
    "stats.normaltest(sample_means)"
   ]
  },
  {
   "cell_type": "markdown",
   "id": "14cc7319",
   "metadata": {},
   "source": [
    "The p-value is greater than 0.5 which means that we accept the null hypothesis and conclude that our sample means distribution is normally distributed!"
   ]
  },
  {
   "cell_type": "code",
   "execution_count": null,
   "id": "5871cbb2",
   "metadata": {},
   "outputs": [],
   "source": []
  }
 ],
 "metadata": {
  "kernelspec": {
   "display_name": "Python (dojo-env)",
   "language": "python",
   "name": "dojo-env"
  },
  "language_info": {
   "codemirror_mode": {
    "name": "ipython",
    "version": 3
   },
   "file_extension": ".py",
   "mimetype": "text/x-python",
   "name": "python",
   "nbconvert_exporter": "python",
   "pygments_lexer": "ipython3",
   "version": "3.8.13"
  },
  "toc": {
   "base_numbering": 1,
   "nav_menu": {},
   "number_sections": true,
   "sideBar": true,
   "skip_h1_title": false,
   "title_cell": "Table of Contents",
   "title_sidebar": "Contents",
   "toc_cell": false,
   "toc_position": {},
   "toc_section_display": true,
   "toc_window_display": false
  }
 },
 "nbformat": 4,
 "nbformat_minor": 5
}
